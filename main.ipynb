{
 "cells": [
  {
   "cell_type": "code",
   "execution_count": 1,
   "metadata": {},
   "outputs": [],
   "source": [
    "# 导入包\n",
    "import numpy as np\n",
    "from sklearn.preprocessing import LabelBinarizer\n",
    "from sklearn.model_selection import train_test_split\n",
    "from sklearn.metrics import classification_report,confusion_matrix\n",
    "import matplotlib.pyplot as plt\n",
    "import os\n",
    "import cv2\n",
    "import pickle"
   ]
  },
  {
   "cell_type": "code",
   "execution_count": 2,
   "metadata": {},
   "outputs": [],
   "source": [
    "# 读取数据 将图像读入图像列表中\n",
    "img_list=[]\n",
    "label_list=[]\n",
    "path='./English/Hnd/Img/'\n",
    "for n,i in enumerate(os.listdir(path)):\n",
    "\tfile_path=path+i\n",
    "\t# print(file_path)\n",
    "\t# print(n)\n",
    "\tif file_path[-1]!='~' and n <11:\n",
    "\t\tfor j in os.listdir(file_path):\n",
    "\t\t\t# print(file_path+'/'+j)\n",
    "\t\t\timg_list.append(file_path+'/'+j)\n",
    "\t\t\tlabel_list.append(n-1)\n"
   ]
  },
  {
   "cell_type": "code",
   "execution_count": 3,
   "metadata": {},
   "outputs": [
    {
     "name": "stdout",
     "output_type": "stream",
     "text": [
      "(900, 1200, 3)\n"
     ]
    },
    {
     "data": {
      "text/plain": [
       "<matplotlib.image.AxesImage at 0x240cdf64948>"
      ]
     },
     "execution_count": 3,
     "metadata": {},
     "output_type": "execute_result"
    },
    {
     "data": {
      "image/png": "[encoded data removed]",
      "text/plain": [
       "<Figure size 432x288 with 1 Axes>"
      ]
     },
     "metadata": {
      "needs_background": "light"
     },
     "output_type": "display_data"
    },
    {
     "data": {
      "image/png": "[encoded data removed]",
      "text/plain": [
       "<Figure size 432x288 with 1 Axes>"
      ]
     },
     "metadata": {
      "needs_background": "light"
     },
     "output_type": "display_data"
    },
    {
     "data": {
      "image/png": "[encoded data removed]",
      "text/plain": [
       "<Figure size 432x288 with 1 Axes>"
      ]
     },
     "metadata": {
      "needs_background": "light"
     },
     "output_type": "display_data"
    }
   ],
   "source": [
    "# 读取图像列表中的图像，生成数据\n",
    "# 先看一下图像的size -1是按照原格式读取，避免图像和原始图像不一致等问题\n",
    "img=cv2.imread(img_list[200],-1)\n",
    "print(img.shape)\n",
    "# 是三通道(900 1200)\n",
    "plt.figure()\n",
    "plt.imshow(img)\n",
    "# 这样直接训练肯定效果并不是很好，想办法进行一下resize\n",
    "# 先将其转化为二值图像，因为本来就都是黑白的，这样好训练一些\n",
    "# 不需要二值化 直接取第一个维度试试\n",
    "img_gray = cv2.cvtColor(img, cv2.COLOR_BGR2GRAY)\n",
    "difference = (img_gray.max() - img_gray.min()) // 2\n",
    "_, img_binary = cv2.threshold(img_gray, difference, 1, cv2.THRESH_BINARY)\n",
    "\n",
    "# 最大图像灰度值减去原图像，即可得到反转的图像\n",
    "img_binary=1-img_binary\n",
    "plt.figure()\n",
    "plt.imshow(img_binary)\n",
    "resize_room1=16\n",
    "resize_room2=16\n",
    "# 注意下 测试集中的数字是28*28的 那么不妨将输入的图像变为28*28的看看结果\n",
    "# 可以先试试28 如果特征损失比较厉害可以换大一点的\n",
    "\n",
    "\n",
    "x=np.where(img_binary==1)[0]\n",
    "y=np.where(img_binary==1)[1]\n",
    "img_new=img_binary[min(x):max(x),min(y):max(y)]\n",
    "img_new=cv2.resize(img_new,(resize_room1,resize_room2))\n",
    "plt.figure()\n",
    "plt.imshow(img_new)\n",
    "# 可以看到，基本保留了图像的原始特征，这样说明这个reszie是合理的\n",
    "# resize成32 然后取2*2作为最小统计块\n"
   ]
  },
  {
   "cell_type": "code",
   "execution_count": 4,
   "metadata": {},
   "outputs": [],
   "source": [
    "# 对所有图像进行resize\n",
    "img_list_new=[]\n",
    "for n,img in enumerate(img_list):\n",
    "\timg_data=cv2.imread(img)\n",
    "\t# gray = cv2.cvtColor(img_data, cv2.COLOR_BGR2GRAY)\n",
    "\t# 最大图像灰度值减去原图像，即可得到反转的图像\n",
    "\timg_gray = cv2.cvtColor(img_data, cv2.COLOR_BGR2GRAY)\n",
    "\tdifference = (img_gray.max() - img_gray.min()) // 2\n",
    "\t_, img_binary = cv2.threshold(img_gray, difference, 1, cv2.THRESH_BINARY)\n",
    "\timg_binary=1-img_binary\n",
    "\tx=np.where(img_binary==1)[0]\n",
    "\ty=np.where(img_binary==1)[1]\n",
    "\timg_new=img_binary[min(x):max(x),min(y):max(y)]\n",
    "\timg_new=cv2.resize(img_new,(16,16))\n",
    "\timg_list_new.append(img_new)\n",
    "\n",
    "\n",
    "\n",
    "# 这个数据处理时间比较长"
   ]
  },
  {
   "cell_type": "code",
   "execution_count": 5,
   "metadata": {},
   "outputs": [
    {
     "name": "stdout",
     "output_type": "stream",
     "text": [
      "550\n"
     ]
    },
    {
     "data": {
      "image/png": "[encoded data removed]",
      "text/plain": [
       "<Figure size 432x288 with 4 Axes>"
      ]
     },
     "metadata": {
      "needs_background": "light"
     },
     "output_type": "display_data"
    }
   ],
   "source": [
    "# 随便看一下数据\n",
    "X=img_list_new\n",
    "import random\n",
    "img_select=random.sample(X,4)\n",
    "print(len(X))\n",
    "# print(img_select)\n",
    "plt.figure()\n",
    "for n,i in enumerate(img_select):\n",
    "\tplt.subplot(2,2,n+1)\n",
    "\tplt.imshow(i)\n",
    "\n",
    "# 感觉结果还行"
   ]
  },
  {
   "cell_type": "code",
   "execution_count": 6,
   "metadata": {},
   "outputs": [
    {
     "name": "stdout",
     "output_type": "stream",
     "text": [
      "(550, 256)\n",
      "(550,)\n"
     ]
    }
   ],
   "source": [
    "y=np.array(label_list)\n",
    "X_new=[]\n",
    "for i in X:\n",
    "\tX_new.append(i.flatten())\n",
    "X=X_new\n",
    "X=np.array(X)\n",
    "print(X.shape)\n",
    "print(y.shape)\n"
   ]
  },
  {
   "cell_type": "code",
   "execution_count": 7,
   "metadata": {},
   "outputs": [],
   "source": [
    "\n",
    "# 数据归一化\n",
    "\n",
    "\n",
    "\n"
   ]
  },
  {
   "cell_type": "code",
   "execution_count": 14,
   "metadata": {},
   "outputs": [
    {
     "name": "stdout",
     "output_type": "stream",
     "text": [
      "[[-0.00564547 -0.88237087 -0.97064233 -0.84126321 -0.01049742 -0.82059797\n",
      "  -0.29218946  0.89794592 -0.1215533  -0.07553741]]\n",
      "(110, 256)\n",
      "steps: 0 accuracy: 0.07272727272727272\n",
      "[[ 0.94597291 -0.40083754 -0.79179534 -0.99522482 -0.00629935 -0.70252583\n",
      "  -0.15057039 -0.07561402 -0.42264269 -0.35793361]]\n",
      "[[-0.27816993 -0.07403835 -0.481947   -0.70199564  0.99831071 -0.8172992\n",
      "  -0.38662396 -0.44558048 -0.30384727 -0.16864415]]\n",
      "[[-0.02032357 -0.91893178 -0.44076863 -0.9050824  -0.00777099  0.80453855\n",
      "  -0.21647291 -0.04453903 -0.41246854 -0.02689652]]\n"
     ]
    }
   ],
   "source": [
    "# 定义神经网络64-100-10,64像素即64通道输入，隐藏层稍多于输入层，输出层为0-9，所以是10个\n",
    "# 输入层到隐藏层v,隐藏层到输出层w\n",
    "V = np.random.random((256,64)) * 2 - 1\n",
    "W = np.random.random((64,10)) * 2 - 1\n",
    "# 数据切分 train_test_split(X,y)可以把输入数据和标签数据切分为训练集和测试集\n",
    "# default: 1/4测试集，3/4训练集\n",
    "X_train,X_test,y_train,y_test = train_test_split(X,y,test_size=0.2)\n",
    "\n",
    "# 标签二值化\n",
    "# 0->100000000\n",
    "# 3->001000000\n",
    "# 9->000000001\n",
    "label_train = LabelBinarizer().fit_transform(y_train)\n",
    "# label_train=label_train+0.01\n",
    "# label_train[label_train==1.01]=0.99\n",
    "# print(label_train)\n",
    "# X_test=(X_test/255.0*0.99)+0.01\n",
    "# X_train=(X_train/255.0 * 0.99) + 0.01\n",
    "\n",
    "# 激活函数\n",
    "def sigmoid(x):\n",
    "    return 1/(1+np.exp(-x))\n",
    "def dsigmoid(x):\n",
    "    s = 1/(1+np.exp(-x))\n",
    "    return s*(1-s)\n",
    "\n",
    "# 训练模型\n",
    "def train(X,y,Steps = 10000,lr = 0.17):\n",
    "    global W,V\n",
    "    acc_max=0\n",
    "    for n in range(Steps):\n",
    "        # 随机选取一个数据\n",
    "        i = np.random.randint(X.shape[0])\n",
    "        x = X[i]\n",
    "        # 把数据变为2维数据，一维数据不能矩阵乘法\n",
    "        \n",
    "        x = np.atleast_2d(x)\n",
    "        # BP算法公式\n",
    "        L1 = sigmoid(np.dot(x,V))\n",
    "        L2 = sigmoid(np.dot(L1,W))\n",
    "        \n",
    "        # 学习信号\n",
    "        # print(y[i],L2)\n",
    "        print((y[i]-L2))\n",
    "        L2_delta = (y[i]-L2)*dsigmoid(np.dot(L1,W))\n",
    "        L1_delta = np.dot(L2_delta,W.T)*dsigmoid(np.dot(x,V))\n",
    "        \n",
    "        # 更新权值\n",
    "        W += lr*np.dot(L1.T,L2_delta)\n",
    "        V += lr*np.dot(x.T,L1_delta)\n",
    "        \n",
    "        #每训练1000次预测一次准确率\n",
    "        if n%1000 == 0:\n",
    "            print(X_test.shape)\n",
    "            output = predict(X_test)\n",
    "            # print(output)\n",
    "            # predictions：最大值所在位置（0-9）->预测的标签值\n",
    "            predictions = np.argmax(output,axis = 1)\n",
    "            acc = np.mean(np.equal(predictions,y_test))\n",
    "            if(acc>acc_max):\n",
    "                W_best=W\n",
    "                V_best=V\n",
    "                acc_max=acc\n",
    "\n",
    "            print(\"steps:\",n,\"accuracy:\",acc)\n",
    "    return W_best,V_best,acc_max\n",
    "def predict(x):\n",
    "    L1 = sigmoid(np.dot(x,V))\n",
    "    L2 = sigmoid(np.dot(L1,W))\n",
    "    return L2\n",
    "\n",
    "\n",
    "\n",
    "W_best,V_best,acc_max=train(X_train,label_train,4)"
   ]
  },
  {
   "cell_type": "code",
   "execution_count": 418,
   "metadata": {},
   "outputs": [
    {
     "name": "stdout",
     "output_type": "stream",
     "text": [
      "0.9454545454545454\n"
     ]
    }
   ],
   "source": [
    "print(acc_max)\n"
   ]
  },
  {
   "cell_type": "code",
   "execution_count": 420,
   "metadata": {},
   "outputs": [
    {
     "name": "stdout",
     "output_type": "stream",
     "text": [
      "The score of rbf is : 0.927273\n"
     ]
    }
   ],
   "source": [
    "from sklearn import svm\n",
    "from sklearn import datasets\n",
    "import numpy as np\n",
    "\n",
    "clf_rbf = svm.SVC(kernel='rbf')\n",
    "clf_rbf.fit(X_train,y_train)\n",
    "score_rbf = clf_rbf.score(X_test,y_test)\n",
    "print(\"The score of rbf is : %f\"%score_rbf)"
   ]
  },
  {
   "cell_type": "code",
   "execution_count": null,
   "metadata": {},
   "outputs": [],
   "source": []
  },
  {
   "cell_type": "code",
   "execution_count": null,
   "metadata": {},
   "outputs": [],
   "source": []
  }
 ],
 "metadata": {
  "interpreter": {
   "hash": "88279d2366fe020547cde40dd65aa0e3aa662a6ec1f3ca12d88834876c85e1a6"
  },
  "kernelspec": {
   "display_name": "Python 3.7.10 ('base')",
   "language": "python",
   "name": "python3"
  },
  "language_info": {
   "codemirror_mode": {
    "name": "ipython",
    "version": 3
   },
   "file_extension": ".py",
   "mimetype": "text/x-python",
   "name": "python",
   "nbconvert_exporter": "python",
   "pygments_lexer": "ipython3",
   "version": "3.7.10"
  },
  "orig_nbformat": 4
 },
 "nbformat": 4,
 "nbformat_minor": 2
}
